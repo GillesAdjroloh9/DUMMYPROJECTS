{
  "nbformat": 4,
  "nbformat_minor": 0,
  "metadata": {
    "colab": {
      "name": "Untitled0.ipynb",
      "version": "0.3.2",
      "provenance": [],
      "include_colab_link": true
    },
    "kernelspec": {
      "name": "python3",
      "display_name": "Python 3"
    }
  },
  "cells": [
    {
      "cell_type": "markdown",
      "metadata": {
        "id": "view-in-github",
        "colab_type": "text"
      },
      "source": [
        "<a href=\"https://colab.research.google.com/github/GillesAdjroloh9/DUMMYPROJECTS/blob/master/BasicPython.ipynb\" target=\"_parent\"><img src=\"https://colab.research.google.com/assets/colab-badge.svg\" alt=\"Open In Colab\"/></a>"
      ]
    },
    {
      "cell_type": "code",
      "metadata": {
        "id": "pVYRYad3TbiG",
        "colab_type": "code",
        "colab": {
          "base_uri": "https://localhost:8080/",
          "height": 34
        },
        "outputId": "1c53bd1f-2bd6-4104-b335-d00be200e730"
      },
      "source": [
        "my_name = \"Kodjo\"\n",
        "type(my_name)\n"
      ],
      "execution_count": 8,
      "outputs": [
        {
          "output_type": "execute_result",
          "data": {
            "text/plain": [
              "str"
            ]
          },
          "metadata": {
            "tags": []
          },
          "execution_count": 8
        }
      ]
    },
    {
      "cell_type": "code",
      "metadata": {
        "id": "Qy7_WRVWWgye",
        "colab_type": "code",
        "colab": {
          "base_uri": "https://localhost:8080/",
          "height": 34
        },
        "outputId": "04fceea3-586e-464c-c4fe-082fe6e0bd28"
      },
      "source": [
        "my_num = 546234200\n",
        "type(my_num)"
      ],
      "execution_count": 9,
      "outputs": [
        {
          "output_type": "execute_result",
          "data": {
            "text/plain": [
              "int"
            ]
          },
          "metadata": {
            "tags": []
          },
          "execution_count": 9
        }
      ]
    },
    {
      "cell_type": "code",
      "metadata": {
        "id": "eZSCwpRVYDCR",
        "colab_type": "code",
        "colab": {
          "base_uri": "https://localhost:8080/",
          "height": 34
        },
        "outputId": "ce43ff79-8d7d-47e6-9464-5526ed5204d4"
      },
      "source": [
        "my_list = [1, 1.25, True, \"Anilla\"]\n",
        "type(my_list)"
      ],
      "execution_count": 11,
      "outputs": [
        {
          "output_type": "execute_result",
          "data": {
            "text/plain": [
              "list"
            ]
          },
          "metadata": {
            "tags": []
          },
          "execution_count": 11
        }
      ]
    },
    {
      "cell_type": "code",
      "metadata": {
        "id": "4IH6_oGaYswI",
        "colab_type": "code",
        "colab": {}
      },
      "source": [
        "my_dict = {\"a\": \"data\", \"b\": 2, \"c\": \"True\"}\n",
        "mydict['c']\n",
        "my_dict.items()\n",
        "type(my_dict.items())"
      ],
      "execution_count": 0,
      "outputs": []
    },
    {
      "cell_type": "code",
      "metadata": {
        "id": "1YxfGs0ladUO",
        "colab_type": "code",
        "colab": {}
      },
      "source": [
        "my_set = {1, 2, 3, 3, 34, \"immutable\"}\n",
        "type(my_set)\n",
        "print(my_set)"
      ],
      "execution_count": 0,
      "outputs": []
    },
    {
      "cell_type": "code",
      "metadata": {
        "id": "Pia53CZRbTt0",
        "colab_type": "code",
        "colab": {}
      },
      "source": [
        "my_tuple = (12,34,221,12)\n",
        "type(my_tuple)\n",
        "print(my_tuple)"
      ],
      "execution_count": 0,
      "outputs": []
    }
  ]
}